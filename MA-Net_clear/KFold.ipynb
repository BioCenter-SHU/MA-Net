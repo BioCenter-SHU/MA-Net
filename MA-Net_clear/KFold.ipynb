{
 "cells": [
  {
   "cell_type": "code",
   "execution_count": 2,
   "metadata": {},
   "outputs": [],
   "source": [
    "import csv\n",
    "def get_k_fold_data(k, k1, image_dir):\n",
    "    # 返回第i折交叉验证时所需要的训练和验证数据\n",
    "    # k1：当前折\n",
    "    assert k > 1##K折交叉验证K大于1\n",
    "    file = open(image_dir, 'r', encoding='utf-8',newline=\"\")\n",
    "    reader = csv.reader(file)\n",
    "    imgs_ls = []\n",
    "    for line in reader:\n",
    "        imgs_ls.append(line)\n",
    "    #print(len(imgs_ls))\n",
    "    file.close()\n",
    "\n",
    "    avg = len(imgs_ls) // k\n",
    "\n",
    "    f1 = open('annotation/train_{}.txt'.format(k1), 'w',newline='')\n",
    "    f2 = open('annotation/test_{}.txt'.format(k1), 'w',newline='')\n",
    "    writer1 = csv.writer(f1)\n",
    "    writer2 = csv.writer(f2)\n",
    "    for i, row in enumerate(imgs_ls):\n",
    "        #print(row)\n",
    "        if (i // avg) == k1:\n",
    "            writer2.writerow(row)\n",
    "        else:\n",
    "            writer1.writerow(row)\n",
    "    f1.close()\n",
    "    f2.close()\n",
    "\n",
    "get_k_fold_data(5,1,'data/global_data.txt')"
   ]
  },
  {
   "cell_type": "code",
   "execution_count": 3,
   "metadata": {},
   "outputs": [
    {
     "data": {
      "text/plain": [
       "45"
      ]
     },
     "execution_count": 3,
     "metadata": {},
     "output_type": "execute_result"
    }
   ],
   "source": [
    "f = open('result/result.csv','w')\n",
    "csv_write = csv.writer(f)\n",
    "csv_write.writerow(['fold','best top-1','acc','recall','precision','auc','f1'])"
   ]
  },
  {
   "cell_type": "code",
   "execution_count": null,
   "metadata": {},
   "outputs": [],
   "source": [
    "# 等比例K折, 从视频数据得到的，获得的是每一帧的list\n",
    "import os \n",
    "import random\n",
    "\n",
    "# 读取txt文件\n",
    "mixed_file = open(\"frame_120/data_Mixed_1.txt\", 'r', encoding='utf-8',newline=\"\")\n",
    "stable_file = open(\"frame_120/data_Stable_1.txt\", 'r', encoding='utf-8',newline=\"\")\n",
    "unstable_file = open(\"frame_120/data_Unstable_1.txt\", 'r', encoding='utf-8',newline=\"\")\n",
    "\n",
    "# txt 转为 list\n",
    "mixed_list = [i for i in mixed_file]\n",
    "stable_list = [i for i in stable_file]\n",
    "unstable_list = [i for i in unstable_file]\n",
    "\n",
    "mixed_file.close()\n",
    "stable_file.close()\n",
    "unstable_file.close()\n",
    "\n",
    "random.shuffle(mixed_list)\n",
    "random.shuffle(stable_list)\n",
    "random.shuffle(unstable_list)\n",
    "\n",
    "division = 5\n",
    "# get divisions for different classes\n",
    "mixed_division = [[] for _ in range(division)]\n",
    "stable_division = [[] for _ in range(division)]\n",
    "unstable_division = [[] for _ in range(division)]\n",
    "\n",
    "N1 = len(mixed_list)\n",
    "for fold in range(division):\n",
    "   for i in range(fold * (N1 // division + 1), fold * (N1 // division + 1) + N1 // division + 1):\n",
    "      if i == N1:\n",
    "         break\n",
    "      else:\n",
    "         mixed_division[fold].append(mixed_list[i]) \n",
    "\n",
    "\n",
    "N2 = len(stable_list)\n",
    "for fold in range(division):\n",
    "   for i in range(fold * (N2 // division + 1), fold * (N2 // division + 1) + N2 // division + 1):\n",
    "      if i == N2:\n",
    "         break\n",
    "      else:\n",
    "         stable_division[fold].append(stable_list[i]) \n",
    "\n",
    "N3 = len(unstable_list)\n",
    "for fold in range(division):\n",
    "   for i in range(fold * (N3 // division + 1), fold * (N3 // division + 1) + N3 // division + 1):\n",
    "      if i == N3:\n",
    "         break\n",
    "      else:\n",
    "         unstable_division[fold].append(unstable_list[i]) \n",
    "\n",
    "# output train/val lists \n",
    "for fold in range(division):\n",
    "   train_file = open(\"annotation/avg_K5/\"+str(fold)+\"_train.txt\", 'w')\n",
    "   val_file = open(\"annotation/avg_K5/\"+str(fold)+\"_val.txt\", 'w')\n",
    "   # validation list\n",
    "   for item in mixed_division[fold]:\n",
    "      val_file.write(item)\n",
    "   for item in unstable_division[fold]:\n",
    "      val_file.write(item)\n",
    "   for item in stable_division[fold]:\n",
    "      val_file.write(item)\n",
    "   # train list\n",
    "   for item in mixed_list:\n",
    "      if item not in mixed_division[fold]:\n",
    "         train_file.write(item)\n",
    "   for item in stable_list:\n",
    "      if item not in stable_division[fold]:\n",
    "         train_file.write(item)\n",
    "   for item in unstable_list:\n",
    "      if item not in unstable_division[fold]:\n",
    "         train_file.write(item)\n",
    "\n",
    "   train_file.flush()\n",
    "   val_file.flush()"
   ]
  },
  {
   "cell_type": "code",
   "execution_count": null,
   "metadata": {},
   "outputs": [],
   "source": []
  }
 ],
 "metadata": {
  "interpreter": {
   "hash": "a859ee32066468199935ac3ffa449498d66f30d5f2b43bb4e1c764c616b91bf4"
  },
  "kernelspec": {
   "display_name": "Python 3.7.11 ('lyy')",
   "language": "python",
   "name": "python3"
  },
  "language_info": {
   "codemirror_mode": {
    "name": "ipython",
    "version": 3
   },
   "file_extension": ".py",
   "mimetype": "text/x-python",
   "name": "python",
   "nbconvert_exporter": "python",
   "pygments_lexer": "ipython3",
   "version": "3.7.11"
  },
  "orig_nbformat": 4
 },
 "nbformat": 4,
 "nbformat_minor": 2
}

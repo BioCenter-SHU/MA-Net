{
 "cells": [
  {
   "cell_type": "code",
   "execution_count": 1,
   "metadata": {},
   "outputs": [],
   "source": [
    "# 自己已经分好的5折数据集格式转为TSM需要的格式\n",
    "# step1: jpg命名补全\n",
    "# 帧的名字补充为6位，和 TSM模型数据集加载相对应\n",
    "import os\n",
    " \n",
    "path = 'TSM_dataste'\n",
    "cls_list = os.listdir(path)\n",
    "for cls in cls_list:\n",
    "    cls_path = os.path.join(path, cls)\n",
    "    video_list = os.listdir(cls_path)\n",
    "    # print(video_path)\n",
    "    for video in video_list:\n",
    "        video_path = os.path.join(cls_path, video)\n",
    "#         print(video_path)\n",
    "        frame_list = os.listdir(video_path)\n",
    "#         print(frame_list)\n",
    "        for frame in frame_list:\n",
    "            frame_name = frame.zfill(10)\n",
    "            # print(frame_name)\n",
    "            new_name = ''.join(frame_name)\n",
    "            if not os.path.exists(os.path.join(video_path, new_name)):\n",
    "                os.rename(os.path.join(video_path, frame), os.path.join(video_path, new_name))"
   ]
  },
  {
   "cell_type": "code",
   "execution_count": null,
   "metadata": {},
   "outputs": [],
   "source": [
    "# step2：5折数据对应\n",
    "# 自己的数据集格式转为TSM并保存\n",
    "import os\n",
    "my_data_txt_path = '/YOUR_PATH/annotation/avg_K5/'\n",
    "new_data_txt_path = '/YOUR_PATH/plauqe/KFold/'\n",
    "\n",
    "k5_list = os.listdir(my_data_txt_path)\n",
    "for k in k5_list:\n",
    "# ecoding=utf-8\n",
    "    ifn = os.path.join(my_data_txt_path, k)\n",
    "    # print(ifn)\n",
    "    ofn = os.path.join(new_data_txt_path, k)\n",
    "\n",
    "    infile = open(ifn,'r')\n",
    "    outfile = open(ofn,'w') \n",
    "\n",
    "    for eachline in infile.readlines():\n",
    "        #截取.之前的字符\n",
    "        video = eachline.split('/0.jpg')[0]\n",
    "        label = eachline[-2]\n",
    "        # print(label)\n",
    "        outfile.write(video+' '+ str(120) + ' ' + str(label)+ '\\n')\n",
    "\n",
    "    infile.close()\n",
    "    outfile.close()\n",
    "\n"
   ]
  },
  {
   "cell_type": "code",
   "execution_count": null,
   "metadata": {},
   "outputs": [],
   "source": [
    "# step3：5折数据对应\n",
    "# breast的数据集格式转为TSM并保存\n",
    "import os\n",
    "my_data_txt_path = '/YOUR_PATH/Clssification/MyModel/Breast_Model/breastdata_txt/avg_K5'\n",
    "new_data_txt_path = '/YOUR_PATH/Clssification/Dateset/breast/KFold/'\n",
    "\n",
    "k5_list = os.listdir(my_data_txt_path)\n",
    "for k in k5_list:\n",
    "# ecoding=utf-8\n",
    "    ifn = os.path.join(my_data_txt_path, k)\n",
    "    # print(ifn)\n",
    "    ofn = os.path.join(new_data_txt_path, k)\n",
    "\n",
    "    infile = open(ifn,'r')\n",
    "    outfile = open(ofn,'w') \n",
    "\n",
    "    for eachline in infile.readlines():\n",
    "        #截取.之前的字符\n",
    "        video = eachline.split('/000000.png')[0]\n",
    "        label = eachline[-2]\n",
    "        # print(label)\n",
    "        outfile.write(video+' '+ str(30) + ' ' + str(label)+ '\\n')\n",
    "\n",
    "    infile.close()\n",
    "    outfile.close()\n",
    "\n"
   ]
  },
  {
   "cell_type": "code",
   "execution_count": null,
   "metadata": {},
   "outputs": [],
   "source": []
  }
 ],
 "metadata": {
  "interpreter": {
   "hash": "a859ee32066468199935ac3ffa449498d66f30d5f2b43bb4e1c764c616b91bf4"
  },
  "kernelspec": {
   "display_name": "Python 3.7.11 ('lyy')",
   "language": "python",
   "name": "python3"
  },
  "language_info": {
   "codemirror_mode": {
    "name": "ipython",
    "version": 3
   },
   "file_extension": ".py",
   "mimetype": "text/x-python",
   "name": "python",
   "nbconvert_exporter": "python",
   "pygments_lexer": "ipython3",
   "version": "3.7.11"
  },
  "orig_nbformat": 4
 },
 "nbformat": 4,
 "nbformat_minor": 2
}
